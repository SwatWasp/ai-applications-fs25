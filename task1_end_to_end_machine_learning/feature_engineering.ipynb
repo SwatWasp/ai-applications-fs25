{
 "cells": [
  {
   "cell_type": "markdown",
   "id": "574e60b2",
   "metadata": {},
   "source": [
    "# Feature Engineering"
   ]
  },
  {
   "attachments": {},
   "cell_type": "markdown",
   "id": "f0d3d6bc",
   "metadata": {},
   "source": [
    "This notebook create new features and mesures the the perfomance change in the model. The goal is to create features to increase the model performance."
   ]
  },
  {
   "cell_type": "code",
   "execution_count": 48,
   "id": "d3e9228d",
   "metadata": {},
   "outputs": [],
   "source": [
    "# Libraries\n",
    "import numpy as np\n",
    "import pandas as pd\n",
    "from sklearn.ensemble import RandomForestRegressor\n",
    "from sklearn.model_selection import cross_val_score\n",
    "\n",
    "# Ignore warnings\n",
    "import warnings\n",
    "warnings.filterwarnings(\"ignore\")"
   ]
  },
  {
   "cell_type": "markdown",
   "id": "5038f83f",
   "metadata": {},
   "source": [
    "### Import the data"
   ]
  },
  {
   "cell_type": "code",
   "execution_count": 49,
   "id": "a7f4c90e",
   "metadata": {},
   "outputs": [
    {
     "name": "stdout",
     "output_type": "stream",
     "text": [
      "   bfs_number  rooms  area  price  postalcode  \\\n",
      "0         118    3.0    49   1441        8630   \n",
      "1         118    3.0   111   2600        8630   \n",
      "2         118    3.0    58   1490        8630   \n",
      "3         118    4.0   118   3240        8630   \n",
      "4         118    3.0    66   1450        8630   \n",
      "\n",
      "                            address      town  \\\n",
      "0     Neuhusstrasse 6, 8630 Rüti ZH   Rüti ZH   \n",
      "1   Widacherstrasse 5, 8630 Rüti ZH   Rüti ZH   \n",
      "2         Widenweg 14, 8630 Rüti ZH   Rüti ZH   \n",
      "3              Rain 1, 8630 Rüti ZH   Rüti ZH   \n",
      "4  Bachtelstrasse 24b, 8630 Rüti ZH   Rüti ZH   \n",
      "\n",
      "                                     description_raw   bfs_name    pop  ...  \\\n",
      "0                     «Gemütliche Wohnung im Grünen»  Rüti (ZH)  12286  ...   \n",
      "1                      «3 Zimmer-Maisonette-Wohnung»  Rüti (ZH)  12286  ...   \n",
      "2            «Ruhig & Grün , Genau was Sie suchen !»  Rüti (ZH)  12286  ...   \n",
      "3  «Gemütliches 4-Zimmer-Reihenhaus in zentraler ...  Rüti (ZH)  12286  ...   \n",
      "4       «Schöne 3-Zimmerwohnung in ruhigem Quartier»  Rüti (ZH)  12286  ...   \n",
      "\n",
      "         lat       lon              x            y  canton  tax_canton  \\\n",
      "0  47.252167  8.845798  234427.734375  706514.9375      ZH        98.0   \n",
      "1  47.252087  8.854919  234430.937500  707205.5000      ZH        98.0   \n",
      "2  47.253670  8.853993  234605.734375  707132.2500      ZH        98.0   \n",
      "3  47.259834  8.851705  235287.968750  706946.6250      ZH        98.0   \n",
      "4  47.266113  8.866872  236006.640625  708081.7500      ZH        98.0   \n",
      "\n",
      "   tax_municipality  tax_church_ref tax_church_römkat  tax_church_christkt  \n",
      "0             119.0            14.0              12.0                 14.0  \n",
      "1             119.0            14.0              12.0                 14.0  \n",
      "2             119.0            14.0              12.0                 14.0  \n",
      "3             119.0            14.0              12.0                 14.0  \n",
      "4             119.0            14.0              12.0                 14.0  \n",
      "\n",
      "[5 rows x 24 columns]\n"
     ]
    }
   ],
   "source": [
    "# Read the data to a pandas data frame\n",
    "df_apartments = pd.read_csv('original_apartment_data_analytics_hs24_with_lat_lon.csv', sep=',', encoding='utf-8')\n",
    "df_taxvalues = pd.read_csv('bfs_tax_values_data.csv', sep=',', encoding='utf-8')\n",
    "df = pd.merge(df_apartments, df_taxvalues.drop(columns=['bfs_name']), on='bfs_number', how='inner')\n",
    "# Get number of rows and columns\n",
    "df.shape\n",
    "print(df.head())"
   ]
  },
  {
   "cell_type": "code",
   "execution_count": 50,
   "id": "c6e8f3e7",
   "metadata": {},
   "outputs": [
    {
     "data": {
      "text/plain": [
       "Index(['bfs_number', 'rooms', 'area', 'price', 'postalcode', 'address', 'town',\n",
       "       'description_raw', 'bfs_name', 'pop', 'pop_dens', 'frg_pct', 'emp',\n",
       "       'tax_income', 'lat', 'lon', 'x', 'y', 'canton', 'tax_canton',\n",
       "       'tax_municipality', 'tax_church_ref', 'tax_church_römkat',\n",
       "       'tax_church_christkt'],\n",
       "      dtype='object')"
      ]
     },
     "execution_count": 50,
     "metadata": {},
     "output_type": "execute_result"
    }
   ],
   "source": [
    "df.columns"
   ]
  },
  {
   "cell_type": "markdown",
   "id": "ff7739ae",
   "metadata": {},
   "source": [
    "## Model Performance"
   ]
  },
  {
   "cell_type": "code",
   "execution_count": 51,
   "id": "685b4884",
   "metadata": {},
   "outputs": [],
   "source": [
    "def model_performance(features, df, random_forest_model = RandomForestRegressor(random_state=42)):\n",
    "    df = df.sample(frac=1, random_state=42)\n",
    "    X, y = df[features], df['price']\n",
    "    scores = cross_val_score(random_forest_model, X, y, scoring=\"neg_root_mean_squared_error\", cv=5)\n",
    "    print('CV results RMSE:', np.round(scores))\n",
    "    print('Mean RMSE:', np.mean(np.round(scores, 0)))"
   ]
  },
  {
   "cell_type": "code",
   "execution_count": 52,
   "id": "3e462d8c",
   "metadata": {},
   "outputs": [
    {
     "name": "stdout",
     "output_type": "stream",
     "text": [
      "CV results RMSE: [ -758.  -817.  -891. -1112.  -871.]\n",
      "Mean RMSE: -889.8\n"
     ]
    }
   ],
   "source": [
    "features = ['rooms', 'area', 'pop', 'pop_dens', 'frg_pct', 'emp', 'tax_income']\n",
    "model_performance(features, df)"
   ]
  },
  {
   "cell_type": "markdown",
   "id": "51a6a8fe",
   "metadata": {},
   "source": [
    "## Data Cleaning\n",
    "- Remove apartments with empty columns\n",
    "- Remove apartments which price exceeds 6000.-\n",
    "- Remove apartments which price is lower than 1000.-"
   ]
  },
  {
   "cell_type": "code",
   "execution_count": 53,
   "id": "4cbef35b",
   "metadata": {},
   "outputs": [
    {
     "name": "stdout",
     "output_type": "stream",
     "text": [
      "Total apartment before data cleaning: 816\n",
      "Total apartment after data cleaning: 801\n"
     ]
    }
   ],
   "source": [
    "print('Total apartment before data cleaning:', len(df))\n",
    "\n",
    "# Remove missing values\n",
    "df = df.dropna()\n",
    "\n",
    "# Remove duplicates\n",
    "df = df.drop_duplicates()\n",
    "\n",
    "# Remove some 'extreme' values\n",
    "df = df.loc[(df['price'] >= 750) & \n",
    "            (df['price'] <= 8000)]\n",
    "\n",
    "print('Total apartment after data cleaning:', len(df))"
   ]
  },
  {
   "cell_type": "code",
   "execution_count": 54,
   "id": "2ef12414",
   "metadata": {},
   "outputs": [
    {
     "name": "stdout",
     "output_type": "stream",
     "text": [
      "CV results RMSE: [-667. -745. -687. -678. -743.]\n",
      "Mean RMSE: -704.0\n"
     ]
    }
   ],
   "source": [
    "# Before data cleaning Mean RMSE: -894.8\n",
    "\n",
    "features = ['rooms', 'area', 'pop', 'pop_dens', 'frg_pct', 'emp', 'tax_income']\n",
    "model_performance(features, df)"
   ]
  },
  {
   "cell_type": "markdown",
   "id": "e61970fc",
   "metadata": {},
   "source": [
    "## Feature engineering"
   ]
  },
  {
   "cell_type": "markdown",
   "id": "dcadc433",
   "metadata": {},
   "source": [
    "### Create additional variables from the apartment's descriptions"
   ]
  },
  {
   "cell_type": "code",
   "execution_count": 55,
   "id": "1ec23679",
   "metadata": {},
   "outputs": [],
   "source": [
    "df['mean_tax'] = round(df['tax_canton'] + df['tax_municipality'] + ((df['tax_church_christkt'] + df['tax_church_ref'] + df['tax_church_römkat']) / 4), 2)"
   ]
  },
  {
   "cell_type": "code",
   "execution_count": 56,
   "id": "6d13fab4",
   "metadata": {},
   "outputs": [
    {
     "name": "stdout",
     "output_type": "stream",
     "text": [
      "CV results RMSE: [-666. -745. -683. -672. -745.]\n",
      "Mean RMSE: -702.2\n"
     ]
    }
   ],
   "source": [
    "# Use the new variable\n",
    "features = ['rooms', 'area', 'pop', 'pop_dens', 'frg_pct', 'emp', 'tax_income', 'mean_tax']\n",
    "model_performance(features, df)"
   ]
  },
  {
   "cell_type": "code",
   "execution_count": 57,
   "id": "ad6661a0",
   "metadata": {},
   "outputs": [],
   "source": [
    "df.to_csv('apartments_data_enriched_with_new_features.csv')"
   ]
  },
  {
   "cell_type": "markdown",
   "id": "cf5b12b2",
   "metadata": {},
   "source": [
    "## Weiteres"
   ]
  },
  {
   "cell_type": "code",
   "execution_count": 58,
   "id": "c977b2e9",
   "metadata": {},
   "outputs": [
    {
     "data": {
      "text/plain": [
       "<Axes: ylabel='features'>"
      ]
     },
     "execution_count": 58,
     "metadata": {},
     "output_type": "execute_result"
    },
    {
     "data": {
      "image/png": "[encoded data removed]",
      "text/plain": [
       "<Figure size 640x480 with 1 Axes>"
      ]
     },
     "metadata": {},
     "output_type": "display_data"
    }
   ],
   "source": [
    "# train random_forest_model = RandomForestRegressor()\n",
    "random_forest_model = RandomForestRegressor(random_state=42)\n",
    "\n",
    "# Fit the model\n",
    "random_forest_model.fit(df[features], df.price)\n",
    "\n",
    "cols = random_forest_model.feature_names_in_\n",
    "\n",
    "# Derive feature importance from random forest\n",
    "importances = random_forest_model.feature_importances_\n",
    "std         = np.std([tree.feature_importances_ for tree in random_forest_model.estimators_], axis=0)\n",
    "indices     = np.argsort(importances)[::-1]\n",
    "\n",
    "# Barplot with feature importance\n",
    "df_fi = pd.DataFrame({'features':cols,'importances': importances})\n",
    "df_fi.sort_values('importances', inplace=True)\n",
    "df_fi.plot(kind='barh', \n",
    "           y='importances',\n",
    "           x='features', \n",
    "           color='darkred')"
   ]
  },
  {
   "cell_type": "code",
   "execution_count": 72,
   "id": "142df5bb",
   "metadata": {},
   "outputs": [
    {
     "name": "stdout",
     "output_type": "stream",
     "text": [
      "   bfs_number            bfs_name    pop     pop_dens    frg_pct     emp  \\\n",
      "0           1     Aeugst am Albis   1981   250.442478  14.184755   442.0   \n",
      "1           2  Affoltern am Albis  12303  1161.756374  28.700317  6920.0   \n",
      "2           3          Bonstetten   5572   749.932705  16.564968  1014.0   \n",
      "3           4     Hausen am Albis   3751   275.808824  16.022394  1021.0   \n",
      "4           5            Hedingen   3778   578.560490  16.410799  1478.0   \n",
      "\n",
      "  tax_income  mean_tax  \n",
      "0    108'788    199.75  \n",
      "1     72'583    231.75  \n",
      "2     91'002    217.25  \n",
      "3     91'766    220.00  \n",
      "4     94'456    207.75  \n"
     ]
    }
   ],
   "source": [
    "# Read the data to a pandas data frame\n",
    "df_municipality = pd.read_csv('bfs_municipality_and_tax_data.csv', sep=',', encoding='utf-8')\n",
    "df_taxvalues = pd.read_csv('bfs_tax_values_data.csv', sep=',', encoding='utf-8')\n",
    "df2 = pd.merge(df_municipality, df_taxvalues.drop(columns=['bfs_name']), on='bfs_number', how='inner')\n",
    "df2['mean_tax'] = round(df2['tax_canton'] + df2['tax_municipality'] + ((df2['tax_church_christkt'] + df2['tax_church_ref'] + df2['tax_church_römkat']) / 4), 2)\n",
    "df2.drop(columns=['canton', 'tax_canton', 'tax_municipality', 'tax_church_christkt', 'tax_church_ref', 'tax_church_römkat'], inplace=True)\n",
    "# Get number of rows and columns\n",
    "df2.shape\n",
    "print(df2.head())\n",
    "\n",
    "df2.to_csv('bfs_all_tax_data.csv')"
   ]
  }
 ],
 "metadata": {
  "kernelspec": {
   "display_name": "Python 3",
   "language": "python",
   "name": "python3"
  },
  "language_info": {
   "codemirror_mode": {
    "name": "ipython",
    "version": 3
   },
   "file_extension": ".py",
   "mimetype": "text/x-python",
   "name": "python",
   "nbconvert_exporter": "python",
   "pygments_lexer": "ipython3",
   "version": "3.12.1"
  }
 },
 "nbformat": 4,
 "nbformat_minor": 5
}
