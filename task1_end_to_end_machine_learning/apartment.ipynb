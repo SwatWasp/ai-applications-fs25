{
 "cells": [
  {
   "cell_type": "code",
   "execution_count": null,
   "metadata": {},
   "outputs": [
    {
     "name": "stderr",
     "output_type": "stream",
     "text": [
      "/usr/local/python/3.12.1/lib/python3.12/site-packages/tqdm/auto.py:21: TqdmWarning: IProgress not found. Please update jupyter and ipywidgets. See https://ipywidgets.readthedocs.io/en/stable/user_install.html\n",
      "  from .autonotebook import tqdm as notebook_tqdm\n"
     ]
    }
   ],
   "source": [
    "import gradio as gr\n",
    "from sklearn.ensemble import RandomForestRegressor\n",
    "from sklearn.model_selection import train_test_split\n",
    "from sklearn.model_selection import cross_val_score\n",
    "import numpy as np\n",
    "import pandas as pd\n",
    "import pickle"
   ]
  },
  {
   "cell_type": "code",
   "execution_count": 4,
   "metadata": {},
   "outputs": [
    {
     "name": "stdout",
     "output_type": "stream",
     "text": [
      "   Unnamed: 0  bfs_number  rooms  area  price  postalcode  \\\n",
      "0           0         118    3.0    49   1441        8630   \n",
      "1           1         118    3.0   111   2600        8630   \n",
      "2           2         118    3.0    58   1490        8630   \n",
      "3           3         118    4.0   118   3240        8630   \n",
      "4           4         118    3.0    66   1450        8630   \n",
      "\n",
      "                            address      town  \\\n",
      "0     Neuhusstrasse 6, 8630 Rüti ZH   Rüti ZH   \n",
      "1   Widacherstrasse 5, 8630 Rüti ZH   Rüti ZH   \n",
      "2         Widenweg 14, 8630 Rüti ZH   Rüti ZH   \n",
      "3              Rain 1, 8630 Rüti ZH   Rüti ZH   \n",
      "4  Bachtelstrasse 24b, 8630 Rüti ZH   Rüti ZH   \n",
      "\n",
      "                                     description_raw   bfs_name  ...  \\\n",
      "0                     «Gemütliche Wohnung im Grünen»  Rüti (ZH)  ...   \n",
      "1                      «3 Zimmer-Maisonette-Wohnung»  Rüti (ZH)  ...   \n",
      "2            «Ruhig & Grün , Genau was Sie suchen !»  Rüti (ZH)  ...   \n",
      "3  «Gemütliches 4-Zimmer-Reihenhaus in zentraler ...  Rüti (ZH)  ...   \n",
      "4       «Schöne 3-Zimmerwohnung in ruhigem Quartier»  Rüti (ZH)  ...   \n",
      "\n",
      "        lon              x            y  canton  tax_canton  tax_municipality  \\\n",
      "0  8.845798  234427.734375  706514.9375      ZH        98.0             119.0   \n",
      "1  8.854919  234430.937500  707205.5000      ZH        98.0             119.0   \n",
      "2  8.853993  234605.734375  707132.2500      ZH        98.0             119.0   \n",
      "3  8.851705  235287.968750  706946.6250      ZH        98.0             119.0   \n",
      "4  8.866872  236006.640625  708081.7500      ZH        98.0             119.0   \n",
      "\n",
      "   tax_church_ref  tax_church_römkat  tax_church_christkt mean_tax  \n",
      "0            14.0               12.0                 14.0    227.0  \n",
      "1            14.0               12.0                 14.0    227.0  \n",
      "2            14.0               12.0                 14.0    227.0  \n",
      "3            14.0               12.0                 14.0    227.0  \n",
      "4            14.0               12.0                 14.0    227.0  \n",
      "\n",
      "[5 rows x 26 columns]\n"
     ]
    }
   ],
   "source": [
    "df = pd.read_csv('apartments_data_enriched_with_new_features.csv', sep=',', encoding='utf-8')\n",
    "print(df.head())"
   ]
  },
  {
   "cell_type": "code",
   "execution_count": 5,
   "metadata": {},
   "outputs": [],
   "source": [
    "features = ['rooms', 'area', 'pop', 'pop_dens', 'frg_pct', 'emp', 'tax_income', 'mean_tax']\n",
    "target = 'price'\n",
    "\n",
    "X = df[features]\n",
    "y = df[target]\n",
    "\n",
    "X_train, X_test, y_train, y_test = train_test_split(X, y, test_size=0.2, random_state=42)"
   ]
  },
  {
   "cell_type": "code",
   "execution_count": null,
   "metadata": {},
   "outputs": [
    {
     "name": "stdout",
     "output_type": "stream",
     "text": [
      "Cross-validation accuracy: 0.5090\n",
      "Training accuracy: 0.8943\n"
     ]
    }
   ],
   "source": [
    "# Train model with cross-validation\n",
    "model = RandomForestRegressor(random_state=42)\n",
    "cross_val_scores = cross_val_score(model, X, y, cv=5)\n",
    "print(f\"Cross-validation accuracy: {np.mean(cross_val_scores):.4f}\")\n",
    "\n",
    "# Train on the full dataset\n",
    "model.fit(X, y)\n",
    "train_accuracy = model.score(X, y)\n",
    "print(f\"Training accuracy: {train_accuracy:.4f}\")"
   ]
  },
  {
   "cell_type": "code",
   "execution_count": 9,
   "metadata": {},
   "outputs": [],
   "source": [
    "# save model to file\n",
    "model_filename = \"apartments_random_forest_regression.pkl\"\n",
    "with open(model_filename, mode=\"bw\") as f:\n",
    "    pickle.dump(model, file=f)"
   ]
  }
 ],
 "metadata": {
  "kernelspec": {
   "display_name": "Python 3",
   "language": "python",
   "name": "python3"
  },
  "language_info": {
   "codemirror_mode": {
    "name": "ipython",
    "version": 3
   },
   "file_extension": ".py",
   "mimetype": "text/x-python",
   "name": "python",
   "nbconvert_exporter": "python",
   "pygments_lexer": "ipython3",
   "version": "3.12.1"
  }
 },
 "nbformat": 4,
 "nbformat_minor": 2
}
